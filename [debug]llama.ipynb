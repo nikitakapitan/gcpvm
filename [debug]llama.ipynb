{
 "cells": [
  {
   "cell_type": "code",
   "execution_count": 1,
   "metadata": {},
   "outputs": [],
   "source": [
    "from pathlib import Path\n",
    "import torch\n",
    "import json\n",
    "from dataclasses import dataclass\n",
    "import debugviz \n",
    "import warnings\n",
    "\n",
    "import llama\n",
    "\n",
    "input = {\n",
    "    'ckpt_dir'       : \"weights/7B\",\n",
    "    'tokenizer_path' : \"weights/tokenizer.model\",\n",
    "    'temperature'    : 0.8,\n",
    "    'top_p'          : 0.95,\n",
    "    'max_seq_len'    : 32,\n",
    "    'max_batch_size' : 32,\n",
    "}\n",
    "\n",
    "warnings.filterwarnings(\"ignore\")\n",
    "%load_ext autoreload\n",
    "%autoreload 2"
   ]
  },
  {
   "attachments": {},
   "cell_type": "markdown",
   "metadata": {},
   "source": [
    "### Set up distributed work"
   ]
  },
  {
   "cell_type": "code",
   "execution_count": 2,
   "metadata": {},
   "outputs": [
    {
     "name": "stdout",
     "output_type": "stream",
     "text": [
      "> initializing model parallel with size 1\n",
      "> initializing ddp with size 1\n",
      "> initializing pipeline with size 1\n",
      "local_rank=-1 world_size=1\n"
     ]
    }
   ],
   "source": [
    "import os\n",
    "os.environ['RANK'] = '0'\n",
    "os.environ['WORLD_SIZE'] = '1'\n",
    "os.environ['MASTER_ADDR'] = '10.164.0.7' # run $ip addr show$ check inet XX.XXX.XXX.XXX\n",
    "os.environ['MASTER_PORT'] = '12345'\n",
    "\n",
    "from fairscale.nn.model_parallel.initialize import initialize_model_parallel\n",
    "def setup_model_parallel():\n",
    "    local_rank = int(os.environ.get(\"LOCAL_RANK\", -1))\n",
    "    world_size = int(os.environ.get(\"WORLD_SIZE\", -1))\n",
    "\n",
    "    torch.distributed.init_process_group(\"nccl\")\n",
    "    initialize_model_parallel(world_size)\n",
    "    torch.cuda.set_device(local_rank)\n",
    "\n",
    "    # seed must be the same in all processes\n",
    "    torch.manual_seed(1)\n",
    "    return local_rank, world_size\n",
    "\n",
    "local_rank, world_size = setup_model_parallel()\n",
    "print(f'{local_rank=} {world_size=}')"
   ]
  },
  {
   "attachments": {},
   "cell_type": "markdown",
   "metadata": {},
   "source": [
    "### Model Args and Params"
   ]
  },
  {
   "cell_type": "code",
   "execution_count": 3,
   "metadata": {},
   "outputs": [
    {
     "name": "stdout",
     "output_type": "stream",
     "text": [
      "len(checkpoints)=1 world_size=1\n"
     ]
    },
    {
     "data": {
      "text/plain": [
       "['I believe the meaning of life is to find happiness and be satisfied with what you have.\\nPeople have different definitions of happiness. Some people feel that']"
      ]
     },
     "execution_count": 3,
     "metadata": {},
     "output_type": "execute_result"
    }
   ],
   "source": [
    "checkpoints = sorted(Path(input['ckpt_dir']).glob(\"*.pth\"))\n",
    "print(f'{len(checkpoints)=} {world_size=}')\n",
    "\n",
    "ckpt_path = checkpoints[local_rank]\n",
    "checkpoint = torch.load(ckpt_path, map_location=\"cpu\")\n",
    "with open(Path(input['ckpt_dir']) / \"params.json\", \"r\") as f:\n",
    "        params = json.loads(f.read())\n",
    "\n",
    "@dataclass\n",
    "class ModelArgs:\n",
    "    dim: int = 512\n",
    "    n_layers: int = 8\n",
    "    n_heads: int = 8\n",
    "    multiple_of: int = 256  # make SwiGLU hidden layer size multiple of large power of 2\n",
    "    norm_eps: float = 1e-5\n",
    "    \n",
    "    vocab_size: int = -1  # defined later by tokenizer\n",
    "    max_batch_size: int = 32\n",
    "    max_seq_len: int = 2048\n",
    "\n",
    "model_args = ModelArgs(\n",
    "        max_seq_len=input['max_seq_len'],\n",
    "        max_batch_size=input['max_batch_size'],\n",
    "        **params)\n",
    "\n",
    "tokenizer = llama.Tokenizer(model_path=input['tokenizer_path'])\n",
    "model_args.vocab_size = tokenizer.n_words\n",
    "\n",
    "torch.set_default_tensor_type(torch.cuda.HalfTensor)\n",
    "model = llama.Transformer(model_args)\n",
    "torch.set_default_tensor_type(torch.FloatTensor)\n",
    "\n",
    "model.load_state_dict(checkpoint, strict=False)\n",
    "\n",
    "generator = llama.LLaMA(model, tokenizer)\n",
    "\n",
    "prompts = [\"I believe the meaning of life is\",]\n",
    "generator.generate(prompts, max_gen_len=256, temperature=input['temperature'], top_p=input['top_p'],)"
   ]
  },
  {
   "attachments": {},
   "cell_type": "markdown",
   "metadata": {},
   "source": [
    "# Break-down : Generate"
   ]
  },
  {
   "attachments": {},
   "cell_type": "markdown",
   "metadata": {},
   "source": [
    "### Break-down : llama.Tokenizer"
   ]
  },
  {
   "cell_type": "code",
   "execution_count": 4,
   "metadata": {},
   "outputs": [
    {
     "name": "stdout",
     "output_type": "stream",
     "text": [
      "text='I believe the meaning of life is'\n",
      "\n",
      "Encode:\n",
      "text=[306, 4658, 278, 6593, 310, 2834, 338]\n",
      "+bos:\n",
      "text=[1, 306, 4658, 278, 6593, 310, 2834, 338]\n",
      "\n",
      "Prepare output tensor:\n",
      "tokens=tensor([[-1, -1, -1, -1, -1, -1, -1, -1, -1, -1, -1, -1, -1, -1, -1, -1, -1, -1,\n",
      "         -1, -1, -1, -1, -1, -1, -1, -1, -1, -1, -1, -1, -1, -1]],\n",
      "       device='cuda:0')\n",
      "tokens.shape=torch.Size([1, 32])\n",
      "\n",
      "tokens.shape=torch.Size([1, 32])\n",
      "tokens=tensor([[   1,  306, 4658,  278, 6593,  310, 2834,  338,   -1,   -1,   -1,   -1,\n",
      "           -1,   -1,   -1,   -1,   -1,   -1,   -1,   -1,   -1,   -1,   -1,   -1,\n",
      "           -1,   -1,   -1,   -1,   -1,   -1,   -1,   -1]], device='cuda:0')\n",
      "\n",
      "Prepare mask for next token generation:\n",
      "input_text_mask=tensor([[ True,  True,  True,  True,  True,  True,  True,  True, False, False,\n",
      "         False, False, False, False, False, False, False, False, False, False,\n",
      "         False, False, False, False, False, False, False, False, False, False,\n",
      "         False, False]], device='cuda:0')\n",
      "\n",
      "start_pos=8 prev_pos=0\n",
      "whole_tokens.shape=torch.Size([1, 32])\n",
      "✅Done. Input text (whole_tokens) is pre-processed and ready to go\n"
     ]
    }
   ],
   "source": [
    "text = \"I believe the meaning of life is\"\n",
    "BATCH = 1 # batch size\n",
    "print(f'{text=}')\n",
    "\n",
    "from sentencepiece import SentencePieceProcessor\n",
    "sp_model = SentencePieceProcessor(model_file=input['tokenizer_path'])\n",
    "\n",
    "n_words: int = sp_model.vocab_size()\n",
    "bos_id:  int = sp_model.bos_id()\n",
    "eos_id:  int = sp_model.eos_id()\n",
    "pad_id:  int = sp_model.pad_id()\n",
    "\n",
    "text = sp_model.encode(text)\n",
    "print(f'\\nEncode:\\n{text=}')\n",
    "\n",
    "text = [bos_id] + text\n",
    "print(f'+bos:\\n{text=}')\n",
    "\n",
    "tokens = torch.full((BATCH, model_args.max_seq_len), pad_id).cuda().long()\n",
    "print(f'\\nPrepare output tensor:\\n{tokens=}\\n{tokens.shape=}')\n",
    "\n",
    "tokens[BATCH-1, : len(text)] = torch.tensor(text).long()\n",
    "print(f'\\n{tokens.shape=}\\n{tokens=}')\n",
    "\n",
    "print(f'\\nPrepare mask for next token generation:')\n",
    "input_text_mask = tokens != pad_id\n",
    "print(f'{input_text_mask=}')\n",
    "\n",
    "start_pos = len(text)\n",
    "prev_pos = 0\n",
    "print(f'\\n{start_pos=} {prev_pos=}')\n",
    "\n",
    "whole_tokens = tokens\n",
    "print(f'{whole_tokens.shape=}')\n",
    "\n",
    "cur_pos = start_pos\n",
    "\n",
    "print('✅Done. Input text (whole_tokens) is pre-processed and ready to go')"
   ]
  },
  {
   "attachments": {},
   "cell_type": "markdown",
   "metadata": {},
   "source": [
    "### Break-down : llama.model.Transformer.forward"
   ]
  },
  {
   "cell_type": "code",
   "execution_count": 5,
   "metadata": {},
   "outputs": [
    {
     "name": "stdout",
     "output_type": "stream",
     "text": [
      "Full-length output tensor:\n",
      "whole_tokens.shape=torch.Size([1, 32])\n",
      "\n",
      "Current tokens:\n",
      "tokens=tensor([[   1,  306, 4658,  278, 6593,  310, 2834,  338]], device='cuda:0')\n",
      "tokens.shape=torch.Size([1, 8])\n",
      "\n",
      "Embeddings:\n",
      "[[0.123, 3.21, -1.23 ...], [1.23, -3.21, ...], ... ]\n",
      "emb.shape=torch.Size([1, 8, 4096])\n",
      "\n",
      "Init rotary embedding freqs:\n",
      "freqs 1/(theta ^(i/dim)):\n",
      "decay: [1.0, 0.86, 0.75, 0.64, 0.56 , ..., 0.0002, 0.0002, 0.0002, 0.0002, 0.0001 ] shape=[64]\n",
      "t: [0, 1, 2, 3, 4, .... , 62, 63] shape=[64]\n",
      "freqs = decay × t : freqs.shape=torch.Size([64, 64])\n",
      "\n",
      "Populate polar coordinates (dtype=complex) Freqs_cis.shape=torch.Size([64, 64])\n",
      "\n",
      "Complex exponential values on the unit circle: \n"
     ]
    },
    {
     "data": {
      "image/png": "[encoded data removed]",
      "text/plain": [
       "<Figure size 600x200 with 4 Axes>"
      ]
     },
     "metadata": {},
     "output_type": "display_data"
    },
    {
     "name": "stdout",
     "output_type": "stream",
     "text": [
      "Current complex exp vals: \n"
     ]
    },
    {
     "data": {
      "image/png": "[encoded data removed]",
      "text/plain": [
       "<Figure size 600x50 with 4 Axes>"
      ]
     },
     "metadata": {},
     "output_type": "display_data"
    },
    {
     "name": "stdout",
     "output_type": "stream",
     "text": [
      "✅Done. Embeddings emb.shape=torch.Size([1, 8, 4096]) are computed and ready to go\n"
     ]
    }
   ],
   "source": [
    "start_pos = prev_pos # 0\n",
    "\n",
    "print(f'Full-length output tensor:\\n{whole_tokens.shape=}')\n",
    "tokens = whole_tokens[:, prev_pos:cur_pos]\n",
    "print(f'\\nCurrent tokens:\\n{tokens=}\\n{tokens.shape=}')\n",
    "\n",
    "_, seqlen = tokens.shape\n",
    "\n",
    "embedding_matrix = model.tok_embeddings.weight\n",
    "embeddings = torch.nn.Embedding.from_pretrained(embedding_matrix)\n",
    "\n",
    "emb = embeddings(tokens) # same as model.tok_embeddings(tokens)\n",
    "print(f'\\nEmbeddings:\\n[[0.123, 3.21, -1.23 ...], [1.23, -3.21, ...], ... ]\\n{emb.shape=}\\n')\n",
    "\n",
    "print('Init rotary embedding freqs:')\n",
    "if True: # down-brake : precompute_freqcs_cis\n",
    "    dim = model_args.dim // model_args.n_heads\n",
    "    end = model_args.max_seq_len * 2\n",
    "    theta = 10000.0\n",
    "\n",
    "    print('freqs 1/(theta ^(i/dim)):\\ndecay: [1.0, 0.86, 0.75, 0.64, 0.56 , ..., 0.0002, 0.0002, 0.0002, 0.0002, 0.0001 ] shape=[64]')\n",
    "    decay = 1.0 / (theta ** (torch.arange(0, dim, 2)[: (dim // 2)].float() / dim))\n",
    "\n",
    "    print('t: [0, 1, 2, 3, 4, .... , 62, 63] shape=[64]')\n",
    "    t = torch.arange(end, device=decay.device)\n",
    "\n",
    "    # pair product of vectors t & freqs => matrix\n",
    "    freqs = torch.outer(t, decay).float()\n",
    "    print(f'freqs = decay × t : {freqs.shape=}')\n",
    "\n",
    "    # Cartesian coordinates corresponding to the polar coordinates with val = 1, angle = freqs)\n",
    "    Freqs_cis = torch.polar(torch.ones_like(freqs), freqs) # dtype = complex64\n",
    "    print(f'\\nPopulate polar coordinates (dtype=complex) {Freqs_cis.shape=}')\n",
    "\n",
    "    Freqs_cis = Freqs_cis.to(emb.device)\n",
    "    print(\"\\nComplex exponential values on the unit circle: \")\n",
    "    debugviz.colorbar(Freqs_cis)\n",
    "\n",
    "freqs_cis = Freqs_cis[start_pos : start_pos + seqlen]\n",
    "print(\"Current complex exp vals: \")\n",
    "debugviz.colorbar(freqs_cis, adjust=0.5)\n",
    "\n",
    "mask = None # Upper-triangular mask matrix\n",
    "if seqlen > 1: # more than 1 input token\n",
    "    mask = torch.full((1, 1, seqlen, seqlen), float(\"-inf\"), device=tokens.device)\n",
    "    mask = torch.triu(mask, diagonal=start_pos + 1).type_as(emb)\n",
    "\n",
    "print(f'✅Done. Embeddings {emb.shape=} are computed and ready to go')"
   ]
  },
  {
   "attachments": {},
   "cell_type": "markdown",
   "metadata": {},
   "source": [
    "# Break-Down llama.model.TransformerBlock\n",
    "\n",
    "### RMSNorm pre-attention"
   ]
  },
  {
   "cell_type": "code",
   "execution_count": 6,
   "metadata": {},
   "outputs": [
    {
     "name": "stdout",
     "output_type": "stream",
     "text": [
      "Pre-attention normalization : pre_attn_norm.shape=torch.Size([1, 8, 4096])\n",
      "Attn RMSNorm RECONCILED!\n"
     ]
    }
   ],
   "source": [
    "# Residual Connection\n",
    "residual_emb = emb.clone()\n",
    "\n",
    "# Pre-normalization RMSNorm 1/sqrt(E[emb**2] + eps)\n",
    "attn_norm = emb.float() * torch.rsqrt(emb.float().pow(2).mean(-1, keepdim=True) + model_args.norm_eps)\n",
    "attn_norm_weight = torch.nn.Parameter(torch.ones(model_args.dim))\n",
    "attn_norm_weight.data = model.layers[0].attention_norm.weight.data\n",
    "pre_attn_norm = attn_norm.type_as(emb) * attn_norm_weight\n",
    "print(f'Pre-attention normalization : {pre_attn_norm.shape=}')\n",
    "\n",
    "assert (pre_attn_norm == model.layers[0].attention_norm(emb)).all(), \"Attn RMSNorm not like REF\"\n",
    "print(\"Attn RMSNorm RECONCILED!\")\n"
   ]
  },
  {
   "attachments": {},
   "cell_type": "markdown",
   "metadata": {},
   "source": [
    "### Attention"
   ]
  },
  {
   "cell_type": "code",
   "execution_count": 7,
   "metadata": {},
   "outputs": [
    {
     "name": "stdout",
     "output_type": "stream",
     "text": [
      "1 = batch \t 8 = nb. Input Words \t 4096 = emb size \t 32 = nb. heads \t 128 head dim\n",
      "\n",
      "Query-Key-Value:\n",
      "\tquery.shape=torch.Size([1, 8, 4096])\n",
      "\tkey.shape=torch.Size([1, 8, 4096])\n",
      "\tvalue.shape=torch.Size([1, 8, 4096])\n",
      "Split to pre_attn_norm.shape=torch.Size([1, 8, 4096]) to 32 heads\n",
      "\tquery.shape=torch.Size([1, 8, 32, 128])\n",
      "\tkey.shape=torch.Size([1, 8, 32, 128])\n",
      "\tvalue.shape=torch.Size([1, 8, 32, 128])\n",
      "START ADD Rotary Embeddings.\n",
      "\tGo to complex:\n",
      "\txq_complex.shape=torch.Size([1, 8, 32, 64])\n",
      "\txk_conplex.shape=torch.Size([1, 8, 32, 64])\n",
      "\tshape=[1, 8, 1, 64]\n",
      "\tBack to Real:\n",
      "\txq_real.shape=torch.Size([1, 8, 32, 128])\n",
      "\txk_real.shape=torch.Size([1, 8, 32, 128])\n",
      "END Rotary Embeddings.\n",
      "\n"
     ]
    }
   ],
   "source": [
    "print('1 = batch \\t 8 = nb. Input Words \\t 4096 = emb size \\t 32 = nb. heads \\t 128 head dim\\n')\n",
    "if True: # Attention.__init__:\n",
    "    head_dim = model_args.dim // model_args.n_heads\n",
    "    n_local_heads = model_args.n_heads // world_size\n",
    "    assert n_local_heads == model.layers[0].attention.n_local_heads, 'Not like REF'\n",
    "\n",
    "    assert (model_args.n_heads * head_dim, model_args.dim) == model.layers[0].attention.wq.weight.shape\n",
    "    wq = torch.nn.Linear(model_args.dim, model_args.n_heads * head_dim, bias=False) # ref no bias\n",
    "    wq.weight.data = model.layers[0].attention.wq.weight.data\n",
    "\n",
    "    assert (model_args.n_heads * head_dim, model_args.dim) == model.layers[0].attention.wk.weight.shape\n",
    "    wk = torch.nn.Linear(model_args.dim, model_args.n_heads * head_dim, bias=False) # ref no bias\n",
    "    wk.weight.data = model.layers[0].attention.wk.weight.data\n",
    "\n",
    "    assert (model_args.n_heads * head_dim, model_args.dim) == model.layers[0].attention.wv.weight.shape\n",
    "    wv = torch.nn.Linear(model_args.dim, model_args.n_heads * head_dim, bias=False) # ref no bias\n",
    "    wv.weight.data = model.layers[0].attention.wv.weight.data\n",
    "\n",
    "    assert (model_args.n_heads * head_dim, model_args.dim) == model.layers[0].attention.wo.weight.shape\n",
    "    wo = torch.nn.Linear(model_args.dim, model_args.n_heads * head_dim, bias=False) # ref no bias\n",
    "    wo.weight.data = model.layers[0].attention.wo.weight.data\n",
    "\n",
    "# attention.forward(h, start_pos, freqs_cis, mask)\n",
    "\n",
    "print(f'Query-Key-Value:')\n",
    "query = wq(pre_attn_norm)\n",
    "key = wk(pre_attn_norm)\n",
    "value = wv(pre_attn_norm)\n",
    "print(f'\\t{query.shape=}\\n\\t{key.shape=}\\n\\t{value.shape=}')\n",
    "\n",
    "print(f'Split to {pre_attn_norm.shape=} to {n_local_heads} heads')\n",
    "query=query.view(BATCH, seqlen, n_local_heads, head_dim)\n",
    "key=key.view(BATCH, seqlen, n_local_heads, head_dim)\n",
    "value=value.view(BATCH, seqlen, n_local_heads, head_dim)\n",
    "print(f'\\t{query.shape=}\\n\\t{key.shape=}\\n\\t{value.shape=}')\n",
    "\n",
    "print('START ADD Rotary Embeddings.\\n\\tGo to complex:')\n",
    "xq_complex = torch.view_as_complex(query.float().reshape(*query.shape[:-1], -1, 2))\n",
    "xk_conplex = torch.view_as_complex(key.float().reshape(*key.shape[:-1], -1, 2))\n",
    "print(f'\\t{xq_complex.shape=}\\n\\t{xk_conplex.shape=}')\n",
    "\n",
    "shape = [d if i == 1 or i == xq_complex.ndim - 1 else 1 for i, d in enumerate(xk_conplex.shape)]\n",
    "broadcasted_reqs_cis = freqs_cis.view(*shape)\n",
    "print(f'\\t{shape=}')\n",
    "\n",
    "print('\\tBack to Real:')\n",
    "xq_real = torch.view_as_real(xq_complex * broadcasted_reqs_cis).flatten(3).type_as(query)\n",
    "xk_real = torch.view_as_real(xk_conplex * broadcasted_reqs_cis).flatten(3).type_as(key)\n",
    "print(f'\\t{xq_real.shape=}\\n\\t{xk_real.shape=}')\n",
    "print(f'END Rotary Embeddings.\\n')"
   ]
  },
  {
   "cell_type": "code",
   "execution_count": 8,
   "metadata": {},
   "outputs": [
    {
     "name": "stdout",
     "output_type": "stream",
     "text": [
      "\txq_real.shape=torch.Size([1, 8, 32, 128])\n",
      "\txk_real.shape=torch.Size([1, 8, 32, 128])\n",
      "\tvalue.shape=torch.Size([1, 8, 32, 128])\n",
      "Transpose Q-K-V N_WORDS <-> N_HEADS\n",
      "\tquery.shape=torch.Size([1, 32, 8, 128])\n",
      "\tkey.shape=torch.Size([1, 32, 8, 128])\n",
      "\tvalue.shape=torch.Size([1, 32, 8, 128])\n",
      "\tkey_t.shape=torch.Size([1, 32, 128, 8])\n",
      "Scores -> Probability Distrib over attention\n",
      "\tscores.shape=torch.Size([1, 32, 8, 8])\n",
      "\tp_attn.shape=torch.Size([1, 32, 8, 8])\n",
      "head_context.shape=torch.Size([1, 32, 8, 128])\n",
      "Transpose back N_HEADS <-> N_WORDS\n",
      "\tcontext.shape=torch.Size([1, 8, 32, 128])\n",
      "Collapse head context by heads:\n",
      "\tcontext.shape=torch.Size([1, 8, 4096])\n",
      "Final output linear layer:\n",
      "\tattn_output.shape=torch.Size([1, 8, 4096])\n",
      "Attention RECONCILED!\n"
     ]
    }
   ],
   "source": [
    "print(f'\\t{xq_real.shape=}\\n\\t{xk_real.shape=}\\n\\t{value.shape=}')\n",
    "\n",
    "print('Transpose Q-K-V N_WORDS <-> N_HEADS')\n",
    "query = xq_real.transpose(1, 2)\n",
    "key = xk_real.transpose(1, 2)\n",
    "value = value.transpose(1, 2)\n",
    "print(f'\\t{query.shape=}\\n\\t{key.shape=}\\n\\t{value.shape=}')\n",
    "\n",
    "key_t = key.transpose(2, 3)\n",
    "print(f'\\t{key_t.shape=}')\n",
    "\n",
    "print('Scores -> Probability Distrib over attention')\n",
    "scores = torch.matmul(query, key_t) / (head_dim ** 0.5)\n",
    "print(f'\\t{scores.shape=}')\n",
    "\n",
    "if mask is not None:\n",
    "    scores = scores + mask\n",
    "\n",
    "p_attn = torch.nn.functional.softmax(scores.float(), dim=-1).type_as(query)\n",
    "print(f'\\t{p_attn.shape=}')\n",
    "\n",
    "head_context = torch.matmul(p_attn, value)\n",
    "print(f'{head_context.shape=}')\n",
    "\n",
    "print('Transpose back N_HEADS <-> N_WORDS')\n",
    "context = head_context.transpose(1, 2).contiguous()\n",
    "print(f'\\t{context.shape=}')\n",
    "\n",
    "print(\"Collapse head context by heads:\")\n",
    "context = context.view(BATCH, seqlen, -1)\n",
    "print(f'\\t{context.shape=}')\n",
    "\n",
    "print('Final output linear layer:')\n",
    "attn_output = wo(context)\n",
    "print(f'\\t{attn_output.shape=}')\n",
    "\n",
    "assert (attn_output == model.layers[0].attention(pre_attn_norm, start_pos, freqs_cis, mask)).all(), \"Attention not like REF\"\n",
    "print(\"Attention RECONCILED!\")\n",
    "\n",
    "context = attn_output + residual_emb"
   ]
  },
  {
   "attachments": {},
   "cell_type": "markdown",
   "metadata": {},
   "source": [
    "### RMSNorm pre-feed-forward"
   ]
  },
  {
   "cell_type": "code",
   "execution_count": 9,
   "metadata": {},
   "outputs": [
    {
     "name": "stdout",
     "output_type": "stream",
     "text": [
      "context.shape=torch.Size([1, 8, 4096])\n",
      "pre_ffn_norm.shape=torch.Size([1, 8, 4096])\n",
      "FFN RMSNorm RECONCILED!\n"
     ]
    }
   ],
   "source": [
    "# Residual Connection\n",
    "residual_context = context.clone()\n",
    "\n",
    "print(f'{context.shape=}')\n",
    "# Pre-normalization RMSNorm\n",
    "ffn_norm = context.float() * torch.rsqrt(context.float().pow(2).mean(-1, keepdim=True) + model_args.norm_eps)\n",
    "ffn_norm_weight = torch.nn.Parameter(torch.ones(model_args.dim))\n",
    "ffn_norm_weight.data = model.layers[0].ffn_norm.weight.data\n",
    "pre_ffn_norm = ffn_norm.type_as(context) * ffn_norm_weight\n",
    "print(f'{pre_ffn_norm.shape=}')\n",
    "\n",
    "assert (pre_ffn_norm == model.layers[0].ffn_norm(context)).all(), \"FFN RMSNorm not like REF\"\n",
    "print(\"FFN RMSNorm RECONCILED!\")"
   ]
  },
  {
   "attachments": {},
   "cell_type": "markdown",
   "metadata": {},
   "source": [
    "### Feed Forward"
   ]
  },
  {
   "cell_type": "code",
   "execution_count": 10,
   "metadata": {},
   "outputs": [
    {
     "name": "stdout",
     "output_type": "stream",
     "text": [
      "pre_ffn_norm.shape=torch.Size([1, 8, 4096])\n",
      "Feed Forward 1 SiLU(Linear(pre_ffn_norm)):\n",
      "\ta1.shape=torch.Size([1, 8, 11008])\n",
      "Feed Forward 2 (a1 * Linear(pre_ffn_norm)):\n",
      "\tz2.shape=torch.Size([1, 8, 11008])\n",
      "Feed Forward 3 Linear(z2):\n",
      "\tffn_output.shape=torch.Size([1, 8, 4096])\n",
      "Feed Forward RECONCILED!\n",
      "\n",
      "✅Done. context.shape=torch.Size([1, 8, 4096]) is UPDATED. REPEAT same update 32 times \n"
     ]
    }
   ],
   "source": [
    "if True:# FeedForward.__init__:\n",
    "    multiple_of = model_args.multiple_of\n",
    "\n",
    "    hidden_dim = 4 * model_args.dim\n",
    "    hidden_dim = int(2 * hidden_dim / 3)\n",
    "    hidden_dim = multiple_of * ((hidden_dim + multiple_of - 1) // multiple_of)\n",
    "\n",
    "    assert (hidden_dim, model_args.dim) == model.layers[0].feed_forward.w1.weight.shape\n",
    "    w1 = torch.nn.Linear(model_args.dim, hidden_dim, bias=False) # ref no bias\n",
    "    w1.weight.data = model.layers[0].feed_forward.w1.weight.data\n",
    "\n",
    "    assert (model_args.dim, hidden_dim) == model.layers[0].feed_forward.w2.weight.shape\n",
    "    w2 = torch.nn.Linear(hidden_dim, model_args.dim, bias=False) # ref no bias\n",
    "    w2.weight.data = model.layers[0].feed_forward.w2.weight.data\n",
    "\n",
    "    assert (hidden_dim, model_args.dim) == model.layers[0].feed_forward.w3.weight.shape\n",
    "    w3 = torch.nn.Linear(model_args.dim, hidden_dim, bias=False) # ref no bias\n",
    "    w3.weight.data = model.layers[0].feed_forward.w3.weight.data\n",
    "\n",
    "# FeedForward.forward\n",
    "\n",
    "print(f'{pre_ffn_norm.shape=}')\n",
    "print('Feed Forward 1 SiLU(Linear(pre_ffn_norm)):')\n",
    "z1 = w1(pre_ffn_norm)\n",
    "a1 = torch.nn.functional.silu(z1)\n",
    "print(f'\\t{a1.shape=}')\n",
    "\n",
    "print('Feed Forward 2 (a1 * Linear(pre_ffn_norm)):')\n",
    "z2 = a1 * w3(pre_ffn_norm)\n",
    "print(f'\\t{z2.shape=}')\n",
    "\n",
    "print('Feed Forward 3 Linear(z2):')\n",
    "ffn_output = w2(z2)\n",
    "print(f'\\t{ffn_output.shape=}')\n",
    "\n",
    "assert (ffn_output == model.layers[0].feed_forward.forward(pre_ffn_norm)).all(), \"FFN not like REF\"\n",
    "print(\"Feed Forward RECONCILED!\")\n",
    "\n",
    "context = ffn_output + residual_context\n",
    "\n",
    "\n",
    "print(f'')\n",
    "\n",
    "print(f'✅Done. {context.shape=} is UPDATED. REPEAT same update 32 times ')"
   ]
  },
  {
   "cell_type": "code",
   "execution_count": 11,
   "metadata": {},
   "outputs": [
    {
     "name": "stdout",
     "output_type": "stream",
     "text": [
      "TransformerBlock RECONCILED!\n",
      "context.shape=torch.Size([1, 8, 4096])\n",
      "Final normalisation:\n",
      "\tpre_classification_context.shape=torch.Size([1, 8, 4096])\n",
      "Classification:\n",
      "\tlogits.shape=torch.Size([1, 32000])\n"
     ]
    }
   ],
   "source": [
    "assert (context == model.layers[0].forward(emb, start_pos, freqs_cis, mask)).all(), \"TransformerBlock not like REF\"\n",
    "print(\"TransformerBlock RECONCILED!\")\n",
    "\n",
    "# end of reconciliation tracking (no more need for meaningful values)\n",
    "for _ in range(32):\n",
    "    context = context\n",
    "print(f'{context.shape=}')\n",
    "\n",
    "print('Final normalisation:')\n",
    "final_norm_weight = torch.nn.Parameter(torch.ones(model_args.dim))\n",
    "final_norm_weight.data = model.norm.weight.data # optional\n",
    "\n",
    "final_norm = context.float() * torch.rsqrt(context.float().pow(2).mean(-1, keepdim=True) + model_args.norm_eps)\n",
    "pre_classification_context = final_norm.type_as(context) * final_norm_weight\n",
    "print(f'\\t{pre_classification_context.shape=}')\n",
    "\n",
    "print('Classification:')\n",
    "classification = torch.nn.Linear(model_args.dim, model_args.vocab_size, bias=False)\n",
    "classification.weight.data = model.output.weight.data\n",
    "logits = classification(pre_classification_context[:, -1, :]) # only compute last logits\n",
    "print(f'\\t{logits.shape=}')"
   ]
  },
  {
   "cell_type": "code",
   "execution_count": 19,
   "metadata": {},
   "outputs": [
    {
     "name": "stdout",
     "output_type": "stream",
     "text": [
      "logits.shape=torch.Size([1, 32000])\n",
      "Greedy Sampling next token:\n",
      "\tnext_token=tensor([310], device='cuda:0')\n",
      "\tnext_token.shape=torch.Size([1])\n",
      "\n",
      "Next word is:\t[of]\n",
      "\n",
      "I believe the meaning of life is to find your gift. The purpose of\n"
     ]
    }
   ],
   "source": [
    "logits = model.forward(tokens, prev_pos)\n",
    "print(f'{logits.shape=}')\n",
    "\n",
    "print('Greedy Sampling next token:')\n",
    "next_token = torch.argmax(logits, dim=-1)\n",
    "print(f'\\t{next_token=}\\n\\t{next_token.shape=}')\n",
    "\n",
    "next_token = next_token.reshape(-1)\n",
    "next_token = torch.where(input_text_mask[:, cur_pos], whole_tokens[:, cur_pos], next_token)\n",
    "whole_tokens[:, cur_pos] = next_token\n",
    "\n",
    "t = whole_tokens.tolist()[BATCH-1][:cur_pos + 1]\n",
    "print(f'\\nNext word is:\\t[{tokenizer.decode(next_token.tolist())}]\\n')\n",
    "print(tokenizer.decode(t))\n",
    "\n",
    "prev_pos = cur_pos\n",
    "cur_pos += 1\n",
    "tokens = whole_tokens[:, prev_pos:cur_pos]\n",
    "    "
   ]
  },
  {
   "cell_type": "code",
   "execution_count": null,
   "metadata": {},
   "outputs": [],
   "source": []
  }
 ],
 "metadata": {
  "kernelspec": {
   "display_name": "Python 3",
   "language": "python",
   "name": "python3"
  },
  "language_info": {
   "codemirror_mode": {
    "name": "ipython",
    "version": 3
   },
   "file_extension": ".py",
   "mimetype": "text/x-python",
   "name": "python",
   "nbconvert_exporter": "python",
   "pygments_lexer": "ipython3",
   "version": "3.8.10"
  },
  "orig_nbformat": 4
 },
 "nbformat": 4,
 "nbformat_minor": 2
}
